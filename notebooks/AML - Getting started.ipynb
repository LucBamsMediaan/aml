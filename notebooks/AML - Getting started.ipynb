{
 "cells": [
  {
   "cell_type": "code",
   "execution_count": 1,
   "metadata": {},
   "outputs": [
    {
     "name": "stdout",
     "output_type": "stream",
     "text": [
      "c:\\Workspace\\PracticeProjects\\aml\n"
     ]
    }
   ],
   "source": [
    "%cd .."
   ]
  },
  {
   "cell_type": "markdown",
   "metadata": {},
   "source": [
    "# Azure Machine Learning - Getting Started"
   ]
  },
  {
   "cell_type": "markdown",
   "metadata": {},
   "source": [
    "##### IMPORTS"
   ]
  },
  {
   "cell_type": "code",
   "execution_count": 2,
   "metadata": {},
   "outputs": [],
   "source": [
    "from azure.ai.ml import MLClient, command, Input\n",
    "from azure.ai.ml.constants import AssetTypes, InputOutputModes\n",
    "from azure.ai.ml.entities import AmlCompute, Data, Environment\n",
    "from azure.identity import DefaultAzureCredential\n",
    "\n",
    "from aml.settings import *"
   ]
  },
  {
   "cell_type": "markdown",
   "metadata": {},
   "source": [
    "Look [here](https://github.com/Azure/azureml-examples/tree/main) for way more information."
   ]
  },
  {
   "cell_type": "markdown",
   "metadata": {},
   "source": [
    "## Connect to a Workspace"
   ]
  },
  {
   "cell_type": "code",
   "execution_count": 3,
   "metadata": {},
   "outputs": [],
   "source": [
    "credential = DefaultAzureCredential()\n",
    "\n",
    "# Get a handle to the workspace. You can find the info on the workspace tab on ml.azure.com\n",
    "ml_client = MLClient(\n",
    "    credential=credential,\n",
    "    subscription_id=SUBSCRIPTION_ID,  # this will look like xxxxxxxx-xxxx-xxxx-xxxx-xxxxxxxxxxxx\n",
    "    resource_group_name=RESOURCE_GROUP,\n",
    "    workspace_name=WORKSPACE_NAME,\n",
    ")"
   ]
  },
  {
   "cell_type": "markdown",
   "metadata": {},
   "source": [
    "## Create Compute"
   ]
  },
  {
   "cell_type": "code",
   "execution_count": 4,
   "metadata": {},
   "outputs": [
    {
     "name": "stdout",
     "output_type": "stream",
     "text": [
      "You already have a cluster named a100, we'll reuse it as is.\n",
      "AMLCompute with name a100 is created, the compute size is STANDARD_NC24ADS_A100_V4\n"
     ]
    }
   ],
   "source": [
    "try:\n",
    "    # let's see if the compute target already exists\n",
    "    gpu_cluster = ml_client.compute.get(COMPUTE_NAME)\n",
    "    print(\n",
    "        f\"You already have a cluster named {COMPUTE_NAME}, we'll reuse it as is.\"\n",
    "    )\n",
    "\n",
    "except Exception:\n",
    "    print(\"Creating a new gpu compute target...\")\n",
    "\n",
    "    gpu_cluster = AmlCompute(\n",
    "        name=COMPUTE_NAME,\n",
    "        type=COMPUTE_TYPE,\n",
    "        size=COMPUTE_SIZE,\n",
    "        min_instances=COMPUTE_MIN_INSTANCES,\n",
    "        max_instances=COMPUTE_MAX_INSTANCES,\n",
    "        idle_time_before_scale_down=COMPUTE_IDLE_TIME,\n",
    "        tier=COMPUTE_TIER,\n",
    "    )\n",
    "\n",
    "    gpu_cluster = ml_client.begin_create_or_update(gpu_cluster)\n",
    "\n",
    "print(\n",
    "    f\"AMLCompute with name {gpu_cluster.name} is created, the compute size is {gpu_cluster.size}\"\n",
    ")"
   ]
  },
  {
   "cell_type": "markdown",
   "metadata": {},
   "source": [
    "## Create an Environment\n",
    "\n",
    "More information [here](https://learn.microsoft.com/en-us/azure/machine-learning/how-to-manage-environments-v2?view=azureml-api-2&tabs=python)"
   ]
  },
  {
   "cell_type": "code",
   "execution_count": 5,
   "metadata": {},
   "outputs": [
    {
     "name": "stdout",
     "output_type": "stream",
     "text": [
      "Environment with name aml-scikit-learn is registered to workspace, the environment version is 7\n"
     ]
    }
   ],
   "source": [
    "pipeline_job_env = Environment(\n",
    "    name=ENVIRONMENT_NAME,\n",
    "    description=ENVIRONMENT_DESCRIPTION,\n",
    "    tags={\"scikit-learn\": \"1.0.0\"},\n",
    "    conda_file=ENVIRONMENT_YAML,\n",
    "    image=ENVIRONMENT_IMAGE,\n",
    ")\n",
    "pipeline_job_env = ml_client.environments.create_or_update(pipeline_job_env)\n",
    "\n",
    "print(\n",
    "    f\"Environment with name {pipeline_job_env.name} is registered to workspace, the environment version is {pipeline_job_env.version}\"\n",
    ")"
   ]
  },
  {
   "cell_type": "markdown",
   "metadata": {},
   "source": [
    "## Create a Data asset\n",
    "\n",
    "Make sure your data is uploaded as a Data asset. Create an asset of the right type.\n",
    "\n",
    "More information [here](https://learn.microsoft.com/en-us/azure/machine-learning/how-to-create-data-assets?view=azureml-api-2&tabs=python)"
   ]
  },
  {
   "cell_type": "code",
   "execution_count": 6,
   "metadata": {},
   "outputs": [
    {
     "name": "stdout",
     "output_type": "stream",
     "text": [
      "Data asset already exists. Name: credit-card, version: 1\n"
     ]
    }
   ],
   "source": [
    "my_data = Data(\n",
    "    name=DATA_NAME,\n",
    "    description=DATA_DESCRIPTION,\n",
    "    # TODO: update the version number if you want to create a new version of the data asset\n",
    "    version=DATA_VERSION,\n",
    "    path=DATA_PATH,\n",
    "    type=AssetTypes.URI_FILE,\n",
    ")\n",
    "\n",
    "## create data asset if it doesn't already exist:\n",
    "try:\n",
    "    data_asset = ml_client.data.get(name=DATA_NAME, version=DATA_VERSION)\n",
    "    print(\n",
    "        f\"Data asset already exists. Name: {my_data.name}, version: {my_data.version}\"\n",
    "    )\n",
    "except:\n",
    "    ml_client.data.create_or_update(my_data)\n",
    "    print(f\"Data asset created. Name: {my_data.name}, version: {my_data.version}\")"
   ]
  },
  {
   "cell_type": "code",
   "execution_count": 7,
   "metadata": {},
   "outputs": [],
   "source": [
    "# configure the command job\n",
    "job = command(\n",
    "    inputs=dict(\n",
    "        # uri_file refers to a specific file as a data asset\n",
    "        data=Input(path=data_asset.id,\n",
    "              type=AssetTypes.URI_FILE,\n",
    "              mode=InputOutputModes.RO_MOUNT\n",
    "              ),\n",
    "        test_train_ratio=JOB_TEST_TRAIN_RATIO,  # input variable in main.py\n",
    "        learning_rate=JOB_LEARNING_RATE,  # input variable in main.py\n",
    "        registered_model_name=MODEL_NAME,  # input variable in main.py\n",
    "    ),\n",
    "    code=\"./src/\",  # location of source code\n",
    "    # The inputs/outputs are accessible in the command via the ${{ ... }} notation\n",
    "    command=\"python main.py --data ${{inputs.data}} --test_train_ratio ${{inputs.test_train_ratio}} --learning_rate ${{inputs.learning_rate}} --registered_model_name ${{inputs.registered_model_name}}\",\n",
    "    # This is the ready-made environment you are using\n",
    "    environment=f\"{ENVIRONMENT_NAME}@latest\",\n",
    "    #  environment=\"AzureML-sklearn-1.0-ubuntu20.04-py38-cpu@latest\",\n",
    "    # This is the compute you created earlier. You can alternatively remove this line to use serverless compute to run the job\n",
    "    compute=COMPUTE_NAME,\n",
    "    # An experiment is a container for all the iterations one does on a certain project. All the jobs submitted under the same experiment name would be listed next to each other in Azure ML studio.\n",
    "    experiment_name=EXPERIMENT_NAME,\n",
    "    display_name=EXPERIMENT_DISPLAY_NAME,\n",
    ")"
   ]
  },
  {
   "cell_type": "code",
   "execution_count": 8,
   "metadata": {},
   "outputs": [],
   "source": [
    "ml_client.create_or_update(job)"
   ]
  }
 ],
 "metadata": {
  "kernelspec": {
   "display_name": "aml",
   "language": "python",
   "name": "aml"
  },
  "language_info": {
   "codemirror_mode": {
    "name": "ipython",
    "version": 3
   },
   "file_extension": ".py",
   "mimetype": "text/x-python",
   "name": "python",
   "nbconvert_exporter": "python",
   "pygments_lexer": "ipython3",
   "version": "3.11.5"
  }
 },
 "nbformat": 4,
 "nbformat_minor": 2
}
