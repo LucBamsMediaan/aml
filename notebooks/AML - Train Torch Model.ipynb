{
 "cells": [
  {
   "cell_type": "code",
   "execution_count": 1,
   "metadata": {},
   "outputs": [
    {
     "name": "stdout",
     "output_type": "stream",
     "text": [
      "c:\\Workspace\\PracticeProjects\\aml\n"
     ]
    }
   ],
   "source": [
    "%cd .."
   ]
  },
  {
   "cell_type": "markdown",
   "metadata": {},
   "source": [
    "# Torch on Azure ML"
   ]
  },
  {
   "cell_type": "code",
   "execution_count": 2,
   "metadata": {},
   "outputs": [],
   "source": [
    "from azure.ai.ml import MLClient, command, Input\n",
    "from azure.ai.ml.constants import AssetTypes, InputOutputModes\n",
    "from azure.ai.ml.entities import AmlCompute, Data, Environment\n",
    "from azure.identity import DefaultAzureCredential\n",
    "\n",
    "from aml.settings import *"
   ]
  },
  {
   "cell_type": "code",
   "execution_count": 3,
   "metadata": {},
   "outputs": [],
   "source": [
    "HYMENOPTERA_DATA_PATH = \"data/hymenoptera\"\n",
    "HYMENOPTERA_DATA_NAME = \"hymenoptera\"\n",
    "HYMENOPTERA_DATA_DESCRIPTION = \"This dataset contains images of ants and bees intended for training a classification model. It consists of approximately 120 training images for each class (ants and bees) and 75 validation images for each class.\""
   ]
  },
  {
   "cell_type": "markdown",
   "metadata": {},
   "source": [
    "## Connect to Workspace"
   ]
  },
  {
   "cell_type": "code",
   "execution_count": 4,
   "metadata": {},
   "outputs": [],
   "source": [
    "credential = DefaultAzureCredential()\n",
    "\n",
    "# Get a handle to the workspace. You can find the info on the workspace tab on ml.azure.com\n",
    "ml_client = MLClient(\n",
    "    credential=credential,\n",
    "    subscription_id=SUBSCRIPTION_ID,  # this will look like xxxxxxxx-xxxx-xxxx-xxxx-xxxxxxxxxxxx\n",
    "    resource_group_name=RESOURCE_GROUP,\n",
    "    workspace_name=WORKSPACE_NAME,\n",
    ")"
   ]
  },
  {
   "cell_type": "markdown",
   "metadata": {},
   "source": [
    "## Create Data asset"
   ]
  },
  {
   "cell_type": "code",
   "execution_count": 5,
   "metadata": {},
   "outputs": [
    {
     "name": "stdout",
     "output_type": "stream",
     "text": [
      "Data asset already exists. Name: hymenoptera, version: None\n"
     ]
    }
   ],
   "source": [
    "# Set the path, supported paths include:\n",
    "# local: './<path>/<folder>' (this will be automatically uploaded to cloud storage)\n",
    "# blob:  'wasbs://<container_name>@<account_name>.blob.core.windows.net/<path>/<folder>'\n",
    "# ADLS gen2: 'abfss://<file_system>@<account_name>.dfs.core.windows.net/<path>/<folder>'\n",
    "# Datastore: 'azureml://datastores/<data_store_name>/paths/<path>/<folder>'\n",
    "\n",
    "# Define the Data asset object\n",
    "my_data = Data(\n",
    "    path=HYMENOPTERA_DATA_PATH,\n",
    "    type=AssetTypes.URI_FOLDER,\n",
    "    description=HYMENOPTERA_DATA_DESCRIPTION,\n",
    "    name=HYMENOPTERA_DATA_NAME,\n",
    ")\n",
    "\n",
    "## create data asset if it doesn't already exist:\n",
    "try:\n",
    "    data_asset = ml_client.data.get(name=HYMENOPTERA_DATA_NAME, version=DATA_VERSION)\n",
    "    print(\n",
    "        f\"Data asset already exists. Name: {my_data.name}, version: {my_data.version}\"\n",
    "    )\n",
    "except:\n",
    "    ml_client.data.create_or_update(my_data)\n",
    "    data_asset = ml_client.data.get(name=HYMENOPTERA_DATA_NAME)\n",
    "    print(f\"Data asset created. Name: {my_data.name}, version: {my_data.version}\")"
   ]
  },
  {
   "cell_type": "markdown",
   "metadata": {},
   "source": [
    "## Create GPU cluster"
   ]
  },
  {
   "cell_type": "code",
   "execution_count": 6,
   "metadata": {},
   "outputs": [
    {
     "name": "stdout",
     "output_type": "stream",
     "text": [
      "You already have a cluster named a100, we'll check whether its attributes match your specifications.\n",
      "All attributes of compute_target match the specifications.\n"
     ]
    }
   ],
   "source": [
    "create_or_update = False\n",
    "\n",
    "if GPU_NAME in [com.name for com in ml_client.compute.list()]:\n",
    "    print(\n",
    "        f\"You already have a cluster named {GPU_NAME}, we'll check whether its attributes match your specifications.\"\n",
    "    )\n",
    "    compute_target = ml_client.compute.get(GPU_NAME)\n",
    "\n",
    "     # Check if the attributes of the existing compute match the specifications\n",
    "    differences = []\n",
    "    if compute_target.type != GPU_TYPE:\n",
    "        differences.append(\"type\")\n",
    "    if compute_target.size.upper() != GPU_SIZE.upper():\n",
    "        differences.append(\"size\")\n",
    "    if compute_target.min_instances != int(GPU_MIN_INSTANCES):\n",
    "        differences.append(\"min_instances\")\n",
    "    if compute_target.max_instances != int(GPU_MAX_INSTANCES):\n",
    "        differences.append(\"max_instances\")\n",
    "    if compute_target.idle_time_before_scale_down != float(GPU_IDLE_TIME):\n",
    "        differences.append(\"idle_time_before_scale_down\")\n",
    "    if {\"low_priority\": \"LowPriority\", \"dedicated\": \"Dedicated\"}.get(compute_target.tier) != GPU_TIER:\n",
    "        differences.append(\"tier\")\n",
    "        print({\"low_priority\": \"LowPriority\", \"dedicated\": \"Dedicated\"}.get(compute_target.tier), type({\"low_priority\": \"LowPriority\", \"dedicated\": \"Dedicated\"}.get(compute_target.tier)), GPU_TIER)\n",
    "\n",
    "    # Print the differences, if any\n",
    "    if differences:\n",
    "        print(f\"The following attributes of compute target are different from your specifications: {', '.join(differences)}\")\n",
    "        create_or_update = True\n",
    "    else:\n",
    "        print(\"All attributes of compute_target match the specifications.\")\n",
    "else:\n",
    "    create_or_update = True\n",
    "\n",
    "if create_or_update:\n",
    "    user_input = input(\"-> Are you sure you want to create/update this Compute? [yes| no]: \")\n",
    "    print(f\"-> Are you sure you want to create/update this Compute? [yes| no]: {user_input.lower()}\")\n",
    "    \n",
    "    if user_input.upper() == \"YES\":\n",
    "        print(\"Creating/Updating compute target...\")\n",
    "        compute_target = AmlCompute(\n",
    "            name=GPU_NAME,\n",
    "            type=GPU_TYPE,\n",
    "            size=GPU_SIZE,\n",
    "            min_instances=GPU_MIN_INSTANCES,\n",
    "            max_instances=GPU_MAX_INSTANCES,\n",
    "            idle_time_before_scale_down=GPU_IDLE_TIME,\n",
    "            tier=GPU_TIER,\n",
    "        )\n",
    "        compute_target = ml_client.begin_create_or_update(compute_target)\n",
    "        print(f\"AMLCompute with name {compute_target.name} is created/updated, the compute size is {compute_target.size}\")\n",
    "    else:\n",
    "        print(\"No compute target created/updated.\")"
   ]
  },
  {
   "cell_type": "code",
   "execution_count": 7,
   "metadata": {},
   "outputs": [],
   "source": [
    "# configure the command job\n",
    "job = command(\n",
    "    inputs=dict(\n",
    "        # uri_file refers to a specific file as a data asset\n",
    "        data=Input(\n",
    "            path=data_asset.id,\n",
    "            type=AssetTypes.URI_FOLDER,\n",
    "            mode=InputOutputModes.RO_MOUNT\n",
    "        ),\n",
    "    ),\n",
    "    code=\"./src/\",  # location of source code\n",
    "    # The inputs/outputs are accessible in the command via the ${{ ... }} notation\n",
    "    command=\"python hymenoptera.py --data ${{inputs.data}}\",\n",
    "    # This is the ready-made environment you are using\n",
    "    environment=\"AzureML-ACPT-pytorch-1.13-py38-cuda11.7-gpu@latest\",\n",
    "    # This is the compute you created earlier. You can alternatively remove this line to use serverless compute to run the job\n",
    "    compute=GPU_NAME,\n",
    "    # An experiment is a container for all the iterations one does on a certain project. All the jobs submitted under the same experiment name would be listed next to each other in Azure ML studio.\n",
    "    experiment_name=EXPERIMENT_NAME,\n",
    "    display_name=EXPERIMENT_DISPLAY_NAME,\n",
    ")"
   ]
  },
  {
   "cell_type": "code",
   "execution_count": 8,
   "metadata": {},
   "outputs": [
    {
     "name": "stderr",
     "output_type": "stream",
     "text": [
      "Class AutoDeleteSettingSchema: This is an experimental class, and may change at any time. Please see https://aka.ms/azuremlexperimental for more information.\n",
      "Class AutoDeleteConditionSchema: This is an experimental class, and may change at any time. Please see https://aka.ms/azuremlexperimental for more information.\n",
      "Class BaseAutoDeleteSettingSchema: This is an experimental class, and may change at any time. Please see https://aka.ms/azuremlexperimental for more information.\n",
      "Class IntellectualPropertySchema: This is an experimental class, and may change at any time. Please see https://aka.ms/azuremlexperimental for more information.\n",
      "Class ProtectionLevelSchema: This is an experimental class, and may change at any time. Please see https://aka.ms/azuremlexperimental for more information.\n",
      "Class BaseIntellectualPropertySchema: This is an experimental class, and may change at any time. Please see https://aka.ms/azuremlexperimental for more information.\n",
      "\u001b[32mUploading src (0.01 MBs): 100%|##########| 9380/9380 [00:00<00:00, 39131.46it/s]\n",
      "\u001b[39m\n",
      "\n"
     ]
    },
    {
     "data": {
      "text/html": [
       "<table style=\"width:100%\"><tr><th>Experiment</th><th>Name</th><th>Type</th><th>Status</th><th>Details Page</th></tr><tr><td>hymenoptrea_classification</td><td>cool_pea_hvwl5sdpw3</td><td>command</td><td>Starting</td><td><a href=\"https://ml.azure.com/runs/cool_pea_hvwl5sdpw3?wsid=/subscriptions/66ac1049-5712-45db-ac73-0472ab01abf8/resourcegroups/DI_INTERNS/workspaces/di-internal-projects&amp;tid=1f6b76fa-8329-4164-9501-06e9eb8697fb\" target=\"_blank\" rel=\"noopener\">Link to Azure Machine Learning studio</a></td></tr></table>"
      ],
      "text/plain": [
       "Command({'parameters': {}, 'init': False, 'name': 'cool_pea_hvwl5sdpw3', 'type': 'command', 'status': 'Starting', 'log_files': None, 'description': None, 'tags': {}, 'properties': {'mlflow.source.git.repoURL': 'https://github.com/LucBamsMediaan/aml.git', 'mlflow.source.git.branch': 'main', 'mlflow.source.git.commit': '1a679c08b8c05b6238f9f676faef0fc32d860cae', 'azureml.git.dirty': 'True', '_azureml.ComputeTargetType': 'amlctrain', '_azureml.ClusterName': 'a100', 'ContentSnapshotId': '7dcb07e6-7dc9-47e0-9935-956b8eaf58f7'}, 'print_as_yaml': False, 'id': '/subscriptions/66ac1049-5712-45db-ac73-0472ab01abf8/resourceGroups/DI_INTERNS/providers/Microsoft.MachineLearningServices/workspaces/di-internal-projects/jobs/cool_pea_hvwl5sdpw3', 'Resource__source_path': '', 'base_path': 'c:\\\\Workspace\\\\PracticeProjects\\\\aml', 'creation_context': <azure.ai.ml.entities._system_data.SystemData object at 0x000001D415169750>, 'serialize': <msrest.serialization.Serializer object at 0x000001D415584CD0>, 'allowed_keys': {}, 'key_restriction': False, 'logger': <TraceLogger attr_dict (WARNING)>, 'display_name': 'hymenoptera classification', 'experiment_name': 'hymenoptrea_classification', 'compute': 'a100', 'services': {'Tracking': {'endpoint': 'azureml://westeurope.api.azureml.ms/mlflow/v1.0/subscriptions/66ac1049-5712-45db-ac73-0472ab01abf8/resourceGroups/DI_INTERNS/providers/Microsoft.MachineLearningServices/workspaces/di-internal-projects?', 'type': 'Tracking'}, 'Studio': {'endpoint': 'https://ml.azure.com/runs/cool_pea_hvwl5sdpw3?wsid=/subscriptions/66ac1049-5712-45db-ac73-0472ab01abf8/resourcegroups/DI_INTERNS/workspaces/di-internal-projects&tid=1f6b76fa-8329-4164-9501-06e9eb8697fb', 'type': 'Studio'}}, 'comment': None, 'job_inputs': {'data': {'type': 'uri_folder', 'path': 'hymenoptera:1', 'mode': 'ro_mount'}}, 'job_outputs': {'default': {'type': 'uri_folder', 'path': 'azureml://datastores/workspaceartifactstore/ExperimentRun/dcid.cool_pea_hvwl5sdpw3', 'mode': 'rw_mount'}}, 'inputs': {'data': <azure.ai.ml.entities._job.pipeline._io.base.NodeInput object at 0x000001D415585150>}, 'outputs': {'default': <azure.ai.ml.entities._job.pipeline._io.base.NodeOutput object at 0x000001D4154E6650>}, 'component': CommandComponent({'latest_version': None, 'intellectual_property': None, 'auto_increment_version': True, 'source': 'REMOTE.WORKSPACE.JOB', 'is_anonymous': False, 'auto_delete_setting': None, 'name': 'cool_pea_hvwl5sdpw3', 'description': None, 'tags': {}, 'properties': {}, 'print_as_yaml': False, 'id': None, 'Resource__source_path': None, 'base_path': 'c:\\\\Workspace\\\\PracticeProjects\\\\aml', 'creation_context': <azure.ai.ml.entities._system_data.SystemData object at 0x000001D415169750>, 'serialize': <msrest.serialization.Serializer object at 0x000001D41501BA50>, 'command': 'python hymenoptera.py --data ${{inputs.data}}', 'code': '/subscriptions/66ac1049-5712-45db-ac73-0472ab01abf8/resourceGroups/DI_INTERNS/providers/Microsoft.MachineLearningServices/workspaces/di-internal-projects/codes/01c2f784-ceb8-484f-bc5b-c5bd582b163d/versions/1', 'environment_variables': {}, 'environment': 'azureml:AzureML-pytorch-1.9-ubuntu18.04-py37-cuda11-gpu@latest', 'distribution': None, 'resources': None, 'queue_settings': None, 'version': None, 'schema': None, 'type': 'command', 'display_name': 'hymenoptera classification', 'is_deterministic': True, 'inputs': {'data': {'type': 'uri_folder', 'path': '/subscriptions/66ac1049-5712-45db-ac73-0472ab01abf8/resourceGroups/DI_INTERNS/providers/Microsoft.MachineLearningServices/workspaces/di-internal-projects/data/hymenoptera/versions/1', 'mode': 'ro_mount'}}, 'outputs': {'default': {'type': 'uri_folder', 'path': 'azureml://datastores/workspaceartifactstore/ExperimentRun/dcid.cool_pea_hvwl5sdpw3', 'mode': 'rw_mount'}}, 'yaml_str': None, 'other_parameter': {'status': 'Starting', 'parameters': {}}, 'additional_includes': []}), 'referenced_control_flow_node_instance_id': None, 'kwargs': {'services': {'Tracking': {'endpoint': 'azureml://westeurope.api.azureml.ms/mlflow/v1.0/subscriptions/66ac1049-5712-45db-ac73-0472ab01abf8/resourceGroups/DI_INTERNS/providers/Microsoft.MachineLearningServices/workspaces/di-internal-projects?', 'type': 'Tracking'}, 'Studio': {'endpoint': 'https://ml.azure.com/runs/cool_pea_hvwl5sdpw3?wsid=/subscriptions/66ac1049-5712-45db-ac73-0472ab01abf8/resourcegroups/DI_INTERNS/workspaces/di-internal-projects&tid=1f6b76fa-8329-4164-9501-06e9eb8697fb', 'type': 'Studio'}}, 'status': 'Starting', 'creation_context': <azure.ai.ml.entities._system_data.SystemData object at 0x000001D415169750>}, 'instance_id': '6c1810f1-72aa-4d40-8cd5-151f87759aba', 'source': 'BUILDER', 'validate_required_input_not_provided': True, 'limits': None, 'identity': None, 'distribution': None, 'environment_variables': {}, 'environment': 'azureml:AzureML-pytorch-1.9-ubuntu18.04-py37-cuda11-gpu@latest', 'resources': {'instance_count': 1, 'shm_size': '2g'}, 'queue_settings': None, 'swept': False})"
      ]
     },
     "execution_count": 8,
     "metadata": {},
     "output_type": "execute_result"
    }
   ],
   "source": [
    "ml_client.create_or_update(job)"
   ]
  }
 ],
 "metadata": {
  "kernelspec": {
   "display_name": "aml",
   "language": "python",
   "name": "aml"
  },
  "language_info": {
   "codemirror_mode": {
    "name": "ipython",
    "version": 3
   },
   "file_extension": ".py",
   "mimetype": "text/x-python",
   "name": "python",
   "nbconvert_exporter": "python",
   "pygments_lexer": "ipython3",
   "version": "3.11.5"
  }
 },
 "nbformat": 4,
 "nbformat_minor": 2
}
